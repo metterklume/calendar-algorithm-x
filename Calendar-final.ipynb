{
 "cells": [
  {
   "cell_type": "markdown",
   "metadata": {},
   "source": [
    "# Solving a calendar puzzle\n",
    "\n",
    "This notebook accompanies this [blog post](https://metterklume.github.io/puzzle/2024/12/24/calendar-puzzle.html) and is intended to be read in parallel.\n",
    "\n",
    "We solve a calendar puzzle where pieces have to be placed in a grid to show a certain date.\n",
    "\n",
    "The code can be readily adapted to any \"pentomino\"-type puzzle by altering the list of pieces and initial grid."
   ]
  },
  {
   "cell_type": "markdown",
   "metadata": {},
   "source": [
    "<img src=\"./calendar_set.jpg\" alt=\"example\" width=\"400\" style=\"display: block; margin: 0 auto;\"/>"
   ]
  },
  {
   "cell_type": "markdown",
   "metadata": {},
   "source": [
    "## Plotting\n",
    "Plotting pieces and solutions is very useful for debugging.\n",
    "\n",
    "So it is best to get to this out of the way in the beginning.\n"
   ]
  },
  {
   "cell_type": "code",
   "execution_count": 3,
   "metadata": {},
   "outputs": [],
   "source": [
    "import matplotlib.pyplot as plt\n",
    "import numpy as np\n",
    "\n",
    "def plot_grid(grid_size, squares=None, grid=None, fig_size_inches=None):\n",
    "    # Create a figure and axis\n",
    "    fig, ax = plt.subplots()\n",
    "\n",
    "    # Plot the grid\n",
    "    for i in range(grid_size):\n",
    "        for j in range(grid_size):\n",
    "            ax.add_patch(plt.Rectangle((i, j), 1, 1, edgecolor='grey', facecolor='lightgrey'))\n",
    "\n",
    "    # Plot the selected squares in a different color\n",
    "    if squares is None and grid is not None:\n",
    "        squares = np.argwhere(grid)\n",
    "    for square in squares:\n",
    "        (x,y) = square\n",
    "        ax.add_patch(plt.Rectangle((y,grid_size-1-x), 1, 1, edgecolor='#CE2C10', facecolor='#E67C7C'))\n",
    "\n",
    "    # Set limits and aspect ratio\n",
    "    ax.set_xlim(0, grid_size)\n",
    "    ax.set_ylim(0, grid_size)\n",
    "    ax.set_aspect('equal', adjustable='box')\n",
    "\n",
    "    # Hide axes\n",
    "    ax.axis('off')\n",
    "    if fig_size_inches is not None:\n",
    "        fig.set_size_inches((fig_size_inches,fig_size_inches))\n",
    "    else:\n",
    "        fig.set_size_inches((1,1))\n",
    "    # Show plot\n",
    "    plt.show()"
   ]
  },
  {
   "cell_type": "code",
   "execution_count": 4,
   "metadata": {},
   "outputs": [],
   "source": [
    "def plot_solution(constraints, solution, initial_grid):\n",
    "    brows, bcols = np.where(initial_grid)\n",
    "    blocked = [i*7+j for (i,j) in zip(brows,bcols)]\n",
    "    blocked = [t for t in blocked if t not in (6,13,45,46,47,48)]\n",
    "    # Create a figure and axis\n",
    "    fig, ax = plt.subplots()\n",
    "    grid_size=7\n",
    "    # Plot the grid\n",
    "    for i in range(grid_size):\n",
    "        for j in range(grid_size):\n",
    "            ax.add_patch(plt.Rectangle((i, j), 1, 1, edgecolor='grey', facecolor='lightgrey'))\n",
    "\n",
    "    for (i,j) in zip((0,1,6,6,6,6),(6,6,3,4,5,6)):\n",
    "        ax.add_patch(plt.Rectangle((j,grid_size-1-i), 1, 1, color='white'))\n",
    "\n",
    "    for b in blocked:\n",
    "        ax.add_patch(plt.Rectangle((b%7,grid_size-1-(b//7)), 1, 1, fill=None, hatch='///'))\n",
    "\n",
    "    for r in constraints[solution]:\n",
    "        squares = [(x//7,x%7) for x in np.where(r[:49])[0]]\n",
    "        color = \"C\" + str(np.where(r[49:])[0][0])\n",
    "        for square in squares:\n",
    "            (x,y) = square\n",
    "            ax.add_patch(plt.Rectangle((y,grid_size-1-x), 1, 1, color=color))\n",
    "\n",
    "    # Set limits and aspect ratio\n",
    "    ax.set_xlim(0, grid_size)\n",
    "    ax.set_ylim(0, grid_size)\n",
    "    ax.set_aspect('equal', adjustable='box')\n",
    "    # Hide axes\n",
    "    ax.axis('off')\n",
    "    fig.set_size_inches((4,4))\n",
    "    fig.tight_layout()\n",
    "\n",
    "    # Show plot\n",
    "    plt.show()"
   ]
  },
  {
   "cell_type": "markdown",
   "metadata": {},
   "source": [
    "## Add pieces\n",
    "We manually create arrays for each of the eight pieces.\n",
    "\n",
    "Then we add create all possible variants by rotating 90 degrees and flipping. \n",
    "\n",
    "Finally we plot all the variants in one big grid and check if there's anything missing."
   ]
  },
  {
   "cell_type": "code",
   "execution_count": 10,
   "metadata": {},
   "outputs": [],
   "source": [
    "import numpy as np\n",
    "\n",
    "N = np.array([[1, 1, 0, 0],\n",
    "            [0, 1, 1, 1]], dtype=np.int32)\n",
    "\n",
    "V = np.array([[1, 0, 0],\n",
    "            [1, 0, 0],\n",
    "            [1, 1, 1]], dtype=np.int32)\n",
    "\n",
    "Z = np.array([[1, 1, 0],\n",
    "            [0, 1, 0],\n",
    "            [0, 1, 1]], dtype=np.int32)\n",
    "\n",
    "U = np.array([[1, 0, 1],\n",
    "              [1, 1, 1]], dtype=np.int32)\n",
    "\n",
    "Y = np.array([[0, 1, 0, 0],\n",
    "              [1, 1, 1, 1]], dtype=np.int32)\n",
    "\n",
    "P = np.array([[1, 1, 0],\n",
    "              [1, 1, 0],\n",
    "              [1, 0, 0]], dtype=np.int32)\n",
    "\n",
    "L = np.array([[1, 0],\n",
    "              [1, 0],\n",
    "              [1, 0],\n",
    "              [1, 1]], dtype=np.int32)\n",
    "\n",
    "O = np.array([[1, 1],\n",
    "              [1, 1],\n",
    "              [1, 1]], dtype=np.int32)"
   ]
  },
  {
   "cell_type": "code",
   "execution_count": 11,
   "metadata": {},
   "outputs": [],
   "source": [
    "def crop(piece):\n",
    "    \"\"\"Crop the grid to the smallest rectangle containing all the 1's\"\"\"\n",
    "    allx, ally = np.where(piece)\n",
    "    return piece[min(allx):max(allx)+1, min(ally):max(ally)+1]\n",
    "\n",
    "\n",
    "def apply_symmetry(piece):\n",
    "    \"\"\"Take a piece array and return a list of its unique 90 degree rotations and reflections\"\"\"\n",
    "    ways = []\n",
    "    for i in range(0,4):\n",
    "        R = crop(np.rot90(piece, i))\n",
    "        if not any(R.shape==x.shape and (R==x).all() for x in ways):\n",
    "            ways += [R]\n",
    "\n",
    "    piece = np.fliplr(piece)\n",
    "    for i in range(0,4):\n",
    "        R = crop(np.rot90(piece, i))\n",
    "        if not any(R.shape==x.shape and (R==x).all() for x in ways):\n",
    "            ways += [R]\n",
    "    return ways"
   ]
  },
  {
   "cell_type": "code",
   "execution_count": 12,
   "metadata": {},
   "outputs": [
    {
     "data": {
      "text/plain": [
       "8"
      ]
     },
     "execution_count": 12,
     "metadata": {},
     "output_type": "execute_result"
    }
   ],
   "source": [
    "# Check the number of variants for a piece\n",
    "len(apply_symmetry(P))"
   ]
  },
  {
   "cell_type": "code",
   "execution_count": 13,
   "metadata": {},
   "outputs": [],
   "source": [
    "pieces = (N,V,Z,U,Y,P,L,O)\n",
    "allpieces, labels = [], []\n",
    "\n",
    "##allpieces is a list of all unique pieces. the labels are the indices (0-7)of the original piece\n",
    "for label,piece in enumerate(pieces):\n",
    "    ways = apply_symmetry(piece)\n",
    "    allpieces += ways\n",
    "    labels += [label]*len(ways)"
   ]
  },
  {
   "cell_type": "code",
   "execution_count": 16,
   "metadata": {},
   "outputs": [
    {
     "data": {
      "text/plain": [
       "(39, 39)"
      ]
     },
     "execution_count": 16,
     "metadata": {},
     "output_type": "execute_result"
    }
   ],
   "source": [
    "big = np.zeros((8*5,8*5),np.int32)\n",
    "counters = [0]*8\n",
    "for piece,label in zip(allpieces,labels):\n",
    "    ppiece = np.pad(piece,((5-piece.shape[0],0),(5-piece.shape[1],0)))\n",
    "    big[label*5:(label+1)*5,counters[label]*5:(counters[label]+1)*5] = ppiece\n",
    "    counters[label] += 1\n",
    "\n",
    "big=crop(big)\n",
    "big.shape"
   ]
  },
  {
   "cell_type": "code",
   "execution_count": 17,
   "metadata": {},
   "outputs": [
    {
     "data": {
      "image/png": "[encoded data removed]",
      "text/plain": [
       "<Figure size 700x700 with 1 Axes>"
      ]
     },
     "metadata": {},
     "output_type": "display_data"
    }
   ],
   "source": [
    "plot_grid(39,grid=big,fig_size_inches=7)"
   ]
  },
  {
   "cell_type": "markdown",
   "metadata": {},
   "source": [
    "## Create initial grid\n",
    "\n",
    "We create a 7x7 grid with 6 squares blocked out. These squares are not available for the pieces.\n",
    "\n",
    "We then block out 2 more squares with the given month (1-12) and day (1-31) marked as in the photograph of the puzzle. These squares must  be left exposed in the final solution so again they are unavailable for the pieces."
   ]
  },
  {
   "cell_type": "code",
   "execution_count": 18,
   "metadata": {},
   "outputs": [],
   "source": [
    "def create_initial_grid(month=None, day=None):\n",
    "    \"\"\"The initial grid as a 7x7 array with 1's showing squares that are blocked out.\n",
    "       6 squares are always blocked.\n",
    "       We add 2 squares with the given month (1-12) and day (1-31) marked as in the \n",
    "       photograph of the puzzle.\"\"\"\n",
    "    initial_grid = np.array([[0, 0, 0, 0, 0, 0, 1],\n",
    "                            [0, 0, 0, 0, 0, 0, 1],\n",
    "                            [0, 0, 0, 0, 0, 0, 0],\n",
    "                            [0, 0, 0, 0, 0, 0, 0],\n",
    "                            [0, 0, 0, 0, 0, 0, 0],\n",
    "                            [0, 0, 0, 0, 0, 0, 0],\n",
    "                            [0, 0, 0, 1, 1, 1, 1]], dtype=np.int32)\n",
    "    if month is not None:\n",
    "        i = (month-1) // 6\n",
    "        j = (month-1)%6\n",
    "        initial_grid[i,j]=1\n",
    "    if day is not None:\n",
    "        i = ((day-1) // 7) + 2\n",
    "        j = (day-1)%7\n",
    "        initial_grid[i,j]=1\n",
    "    return initial_grid"
   ]
  },
  {
   "cell_type": "code",
   "execution_count": 20,
   "metadata": {},
   "outputs": [
    {
     "data": {
      "image/png": "[encoded data removed]",
      "text/plain": [
       "<Figure size 100x100 with 1 Axes>"
      ]
     },
     "metadata": {},
     "output_type": "display_data"
    }
   ],
   "source": [
    "initial_grid = create_initial_grid(month=12, day=25)\n",
    "plot_grid(7,grid=initial_grid)"
   ]
  },
  {
   "cell_type": "markdown",
   "metadata": {},
   "source": [
    "## Create the matrix M\n",
    "\n",
    "We construct the master matrix $M$ that encoded all the constraints of the puzzle. \n",
    "\n",
    "For each piece variant we loop over all valid positions. For each such combination, we create a row where the 1's correspond to the squares that covered and the type of the piece.\n",
    "\n",
    "All these rows taken together, form $M$."
   ]
  },
  {
   "cell_type": "code",
   "execution_count": 21,
   "metadata": {},
   "outputs": [],
   "source": [
    "brows, bcols = np.where(initial_grid)\n",
    "blocked = set(i*7+j for (i,j) in zip(brows,bcols))\n",
    "\n",
    "def make_rows(piece, blocked):\n",
    "    \"\"\"\n",
    "    Slide the piece in the 7x7 grid and return the rows that correspond to valid moves.\n",
    "    A valid move is one that does not overlap with any of the blocked squares.\n",
    "    Each row is a 49-bit array with 1's in the squares that are covered by the piece.\n",
    "    \"\"\"\n",
    "    x_max, y_max = piece.shape\n",
    "    allx, ally = np.where(piece)\n",
    "    rows = []\n",
    "    for i in range(7-x_max+1):\n",
    "        for j in range(7-y_max+1):\n",
    "            squares = [(i+x,j+y) for (x,y) in zip(allx,ally)]\n",
    "            if any(7*a+b in blocked for (a,b) in squares):\n",
    "                continue\n",
    "            squares = [7*a+b for (a,b) in squares]\n",
    "            row = np.zeros(49, dtype=np.int32)\n",
    "            row[squares] = 1\n",
    "            rows.append(row)\n",
    "\n",
    "    return rows"
   ]
  },
  {
   "cell_type": "code",
   "execution_count": 23,
   "metadata": {},
   "outputs": [],
   "source": [
    "M = []\n",
    "for label, piece in zip(labels, allpieces):\n",
    "    rows = make_rows(piece, blocked)\n",
    "    suffix = [0]*8\n",
    "    suffix[label] = 1\n",
    "    rows = [np.hstack((row,suffix)) for row in rows]\n",
    "    M += rows\n",
    "\n",
    "M = np.array(M, dtype=np.int32)"
   ]
  },
  {
   "cell_type": "code",
   "execution_count": 24,
   "metadata": {},
   "outputs": [
    {
     "data": {
      "text/plain": [
       "(782, 57)"
      ]
     },
     "execution_count": 24,
     "metadata": {},
     "output_type": "execute_result"
    }
   ],
   "source": [
    "M.shape"
   ]
  },
  {
   "cell_type": "markdown",
   "metadata": {},
   "source": [
    "## Algorithm X\n",
    "\n",
    "We use a backtracking algorithm for the *exact cover* that $M$ \n",
    "represents. \n",
    "\n",
    "We need a to find a subset of non-intersecting rows such that taken together they *cover* all the columns. In other words, no two rows in the subset share a $1$ in the same column. And for any column, there is a row in the subset with a $1$ there.\n",
    "\n",
    "The arguments `keep_rows` and `keep_cols` are boolean arrays. Entries are set to False as the corresponding row/column is removed."
   ]
  },
  {
   "cell_type": "code",
   "execution_count": 34,
   "metadata": {},
   "outputs": [],
   "source": [
    "def solve(M, keep_rows, keep_cols, working_solution):\n",
    "    \"\"\"\n",
    "    keep_rows[i] = True if the move in row i can be made, else False\n",
    "    keep_cols[j] = True if the square of column j is empty or the piece is available, else False\n",
    "    \n",
    "    working_solution is the current list of moves (row indices)\n",
    "    n = 49 is the number of squares in the grid, hardcoded for now\n",
    "    \"\"\"\n",
    "    n = 49\n",
    "    #If all squares are covered, we have a solution\n",
    "    if not keep_cols[:n].any():\n",
    "        print( \"success!\", working_solution[1:])\n",
    "        return True\n",
    "    #If at least one square cannot be covered by a square,\n",
    "    #we have reached a dead-end. \n",
    "    elif not M[keep_rows].sum(axis=0)[:n][keep_cols[:n]].all():\n",
    "        return None\n",
    "    \n",
    "    #We only consider the rows that intersect the first remaining column\n",
    "    #This automatically discards permutations of the pieces\n",
    "    leftrows = np.where(M[:,np.where(keep_cols)[0][0]])[0]\n",
    "    for r in leftrows:\n",
    "        if not keep_rows[r]:\n",
    "            continue\n",
    "\n",
    "        new_keep_rows, new_keep_cols, new_solution = keep_rows.copy(), keep_cols.copy(), working_solution.copy()\n",
    "        new_keep_rows[r] = False\n",
    "        cols = np.where(M[r])[0]\n",
    "        for c in cols:\n",
    "            #remove all squares covered by the piece and the piece itself\n",
    "            new_keep_cols[c] = False\n",
    "            #remove all moves that overlap with the piece that we have just placed\n",
    "            for rr in np.where(M[:,c])[0]:\n",
    "                new_keep_rows[rr] = False\n",
    "        new_solution.append(r)\n",
    "        solve(M, new_keep_rows, new_keep_cols, new_solution)\n",
    "        \n",
    "    return None"
   ]
  },
  {
   "cell_type": "code",
   "execution_count": 35,
   "metadata": {},
   "outputs": [
    {
     "data": {
      "text/plain": [
       "(57, 782)"
      ]
     },
     "execution_count": 35,
     "metadata": {},
     "output_type": "execute_result"
    }
   ],
   "source": [
    "# A technicality: we need to remove columns that are all 0's\n",
    "# These are squares that are blocked out in the initial grid.\n",
    "# Otherwis the algorithm will try to cover all these columns\n",
    "# and will fail to find a solution.\n",
    "chop_cols = [i for (i,c) in enumerate(M.T) if not c.any()]\n",
    "keep_cols = [c not in chop_cols for c in range(M.shape[1])]\n",
    "keep_rows = [True]*M.shape[0]\n",
    "len(keep_cols),len(keep_rows)"
   ]
  },
  {
   "cell_type": "code",
   "execution_count": null,
   "metadata": {},
   "outputs": [],
   "source": [
    "solve(M,np.array(keep_rows,dtype=np.bool_),np.array(keep_cols,dtype=np.bool_),[-1])"
   ]
  },
  {
   "cell_type": "code",
   "execution_count": 37,
   "metadata": {},
   "outputs": [
    {
     "data": {
      "image/png": "[encoded data removed]",
      "text/plain": [
       "<Figure size 400x400 with 1 Axes>"
      ]
     },
     "metadata": {},
     "output_type": "display_data"
    }
   ],
   "source": [
    "plot_solution(M,[240, 156, 321, 6, 425, 739, 601, 781],initial_grid)"
   ]
  },
  {
   "cell_type": "code",
   "execution_count": 38,
   "metadata": {},
   "outputs": [
    {
     "data": {
      "image/png": "[encoded data removed]",
      "text/plain": [
       "<Figure size 400x400 with 1 Axes>"
      ]
     },
     "metadata": {},
     "output_type": "display_data"
    }
   ],
   "source": [
    "plot_solution(M,[317, 430, 657, 509, 756, 203, 140, 14],initial_grid)"
   ]
  },
  {
   "cell_type": "code",
   "execution_count": 39,
   "metadata": {},
   "outputs": [
    {
     "data": {
      "image/png": "[encoded data removed]",
      "text/plain": [
       "<Figure size 400x400 with 1 Axes>"
      ]
     },
     "metadata": {},
     "output_type": "display_data"
    }
   ],
   "source": [
    "plot_solution(M,[763, 685, 321, 178, 425, 28, 601, 239],initial_grid)"
   ]
  },
  {
   "cell_type": "markdown",
   "metadata": {},
   "source": [
    "Collect all solutions in a list."
   ]
  },
  {
   "cell_type": "code",
   "execution_count": 41,
   "metadata": {},
   "outputs": [],
   "source": [
    "def allsolve(M, keep_rows, keep_cols):\n",
    "    solutions = []\n",
    "    def solve(M, keep_rows, keep_cols, working_solution):\n",
    "        \"\"\"\n",
    "        keep_rows[i] = True if the move in row i can be made, else False\n",
    "        keep_cols[j] = True if the square of column j is empty or the piece is available, else False\n",
    "        \n",
    "        working_solution is the current list of moves (row indices)\n",
    "        n = 49 is the number of squares in the grid, hardcoded for now\n",
    "        \"\"\"\n",
    "        n = 49\n",
    "        #If all squares are covered, we have a solution\n",
    "        if not keep_cols[:n].any():\n",
    "            print( \"success!\", working_solution)\n",
    "            solutions.append(working_solution)\n",
    "            return True\n",
    "        #If at least one square cannot be covered by a square,\n",
    "        #we have reached a dead-end. \n",
    "        elif not M[keep_rows].sum(axis=0)[:n][keep_cols[:n]].all():\n",
    "            return None\n",
    "        \n",
    "        #We only consider the rows that intersect the first remaining column\n",
    "        #This automatically discards permutations of the pieces\n",
    "        leftrows = np.where(M[:,np.where(keep_cols)[0][0]])[0]\n",
    "        for r in leftrows:\n",
    "            if not keep_rows[r]:\n",
    "                continue\n",
    "\n",
    "            new_keep_rows, new_keep_cols, new_solution = keep_rows.copy(), keep_cols.copy(), working_solution.copy()\n",
    "            new_keep_rows[r] = False\n",
    "            cols = np.where(M[r])[0]\n",
    "            for c in cols:\n",
    "                #remove all squares covered by the piece and the piece itself\n",
    "                new_keep_cols[c] = False\n",
    "                #remove all moves that overlap with the piece that we have just placed\n",
    "                for rr in np.where(M[:,c])[0]:\n",
    "                    new_keep_rows[rr] = False\n",
    "            new_solution.append(r)\n",
    "            solve(M, new_keep_rows, new_keep_cols, new_solution)\n",
    "            \n",
    "        return None\n",
    "    \n",
    "    solve(M,np.array(keep_rows,dtype=np.bool_),np.array(keep_cols,dtype=np.bool_),[])\n",
    "    return solutions"
   ]
  },
  {
   "cell_type": "code",
   "execution_count": null,
   "metadata": {},
   "outputs": [],
   "source": [
    "solutions =allsolve(M,np.array(keep_rows,dtype=np.bool_),np.array(keep_cols,dtype=np.bool_))"
   ]
  },
  {
   "cell_type": "markdown",
   "metadata": {},
   "source": [
    "## Exploring the space of solutions for each date.\n",
    "\n",
    "Find the list of solutions for all combinations of month and day.\n",
    "\n",
    "**Warning** \n",
    "\n",
    "The code below takes ~ 20 min on a Macbook M1. It can be sped up significantly by using Numba but that needs some adaptation. Exercise for the reader!"
   ]
  },
  {
   "cell_type": "code",
   "execution_count": null,
   "metadata": {},
   "outputs": [],
   "source": [
    "allsolutions = []\n",
    "for m in range(1,13):\n",
    "    for d in range(1,32):\n",
    "        initial_grid = create_initial_grid(month=m, day=d)\n",
    "        brows, bcols = np.where(initial_grid)\n",
    "        blocked = set(i*7+j for (i,j) in zip(brows,bcols))\n",
    "        M = []\n",
    "        for label, piece in zip(labels, allpieces):\n",
    "            rows = make_rows(piece, blocked)\n",
    "            suffix = [0]*8\n",
    "            suffix[label] = 1\n",
    "            rows = [np.hstack((row,suffix)) for row in rows]\n",
    "            M += rows\n",
    "\n",
    "        M = np.array(M, dtype=np.int32)\n",
    "        chop_cols = [i for (i,c) in enumerate(M.T) if not c.any()]\n",
    "        keep_cols = [c not in chop_cols for c in range(M.shape[1])]\n",
    "        keep_rows = [True]*M.shape[0]\n",
    "        solutions = allsolve(M,np.array(keep_rows,dtype=np.bool_),np.array(keep_cols,dtype=np.bool_))\n",
    "\n",
    "        allsolutions.append((m,d,solutions))\n"
   ]
  },
  {
   "cell_type": "code",
   "execution_count": 126,
   "metadata": {},
   "outputs": [
    {
     "data": {
      "text/plain": [
       "372"
      ]
     },
     "execution_count": 126,
     "metadata": {},
     "output_type": "execute_result"
    }
   ],
   "source": [
    "len(allsolutions)"
   ]
  },
  {
   "cell_type": "code",
   "execution_count": null,
   "metadata": {},
   "outputs": [],
   "source": [
    "nsols = [len(s[2]) for s in allsolutions]\n",
    "plt.hist(nsols,bins=20)"
   ]
  },
  {
   "cell_type": "code",
   "execution_count": 197,
   "metadata": {},
   "outputs": [
    {
     "name": "stderr",
     "output_type": "stream",
     "text": [
      "/var/folders/n7/bnpg49t95cg1qn6lkw01wg_h0000gn/T/ipykernel_53235/1605390099.py:2: MatplotlibDeprecationWarning: The seaborn styles shipped by Matplotlib are deprecated since 3.6, as they no longer correspond to the styles shipped by seaborn. However, they will remain available as 'seaborn-v0_8-<style>'. Alternatively, directly use the seaborn API instead.\n",
      "  plt.style.use('seaborn-whitegrid') # nice and clean grid\n"
     ]
    },
    {
     "data": {
      "image/png": "[encoded data removed]",
      "text/plain": [
       "<Figure size 600x300 with 1 Axes>"
      ]
     },
     "metadata": {},
     "output_type": "display_data"
    }
   ],
   "source": [
    "plt.figure(figsize=(6,3)) # Make it 14x7 inch\n",
    "plt.style.use('seaborn-whitegrid') # nice and clean grid\n",
    "plt.hist(nsols, bins=30, facecolor = '#2ab0ff', edgecolor='#169acf', linewidth=0.5)\n",
    "plt.xlabel('Unique solutions') \n",
    "plt.ylabel('Frequency') \n",
    "plt.show()"
   ]
  }
 ],
 "metadata": {
  "kernelspec": {
   "display_name": "numba",
   "language": "python",
   "name": "python3"
  },
  "language_info": {
   "codemirror_mode": {
    "name": "ipython",
    "version": 3
   },
   "file_extension": ".py",
   "mimetype": "text/x-python",
   "name": "python",
   "nbconvert_exporter": "python",
   "pygments_lexer": "ipython3",
   "version": "3.11.4"
  }
 },
 "nbformat": 4,
 "nbformat_minor": 2
}
